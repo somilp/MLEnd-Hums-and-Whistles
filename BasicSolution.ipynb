{
 "cells": [
  {
   "cell_type": "markdown",
   "id": "41aaae82",
   "metadata": {
    "id": "41aaae82"
   },
   "source": [
    "# Mini-Project Submission: Basic Solution"
   ]
  },
  {
   "cell_type": "markdown",
   "id": "19e518e3",
   "metadata": {
    "id": "19e518e3"
   },
   "source": [
    "# 1 Author\n",
    "\n",
    "**Student Name**: Somil Parmar"
   ]
  },
  {
   "cell_type": "markdown",
   "id": "0284e132",
   "metadata": {
    "id": "0284e132"
   },
   "source": [
    "# 2 Problem Formulation\n",
    "\n",
    "People may hum or whistle songs that are 'stuck in their  head' but not recall the actual name of them. Searching for such a song may prove difficult, without a machine learning solution. Here we attempt to build a relatively small scale pipeline, which experiments with two distinct songs.\n",
    "\n",
    "Specifically, the problem involves building a machine learning pipeline to predict the labels of audio segments from the Harry Potter theme song (\"Potter\") and The Imperial March (\"StarWars\"). The segments are approximately 15 seconds in length, and include two types of interpretation: humming and whistling.\n",
    "\n",
    "It will be interesting to see how well the models are able to predict the song labels, based on certain features that will be extracted from them. "
   ]
  },
  {
   "cell_type": "markdown",
   "id": "50552432",
   "metadata": {
    "id": "50552432"
   },
   "source": [
    "# 3 Machine Learning Pipeline\n",
    "\n",
    "The machine learning pipeline will involve the following stages:\n",
    "1. Data ingestion (importing the raw data)\n",
    "1. Data preprocessing (obtaining relevant labels)\n",
    "1. Feature extraction\n",
    "1. Model training\n",
    "1. Candidate model evaluation\n",
    "\n",
    "The output will be a song label (\"False\" for \"Potter\" and \"True\" for StarWars)."
   ]
  },
  {
   "cell_type": "markdown",
   "id": "c4665882",
   "metadata": {
    "id": "c4665882"
   },
   "source": [
    "# 4 Transformation Stage\n",
    "\n",
    "Following experimentation with 9 different features (see Appendix), three were selected for training of the model. These features speed up computation time, enable us to reduce overfitting (as there should be less redundant data) and improve accuracy.\n",
    "\n",
    "1. Tempogram standard deviation - measures the rate of a musical beat in beats per minute. It indicates the 'pace' or tempi at a specific moment in time. As it returns a lot of values, we will be using the standard deviation of this feature to represent the variability.\n",
    "2. Tempo - similar to the tempogram; represents the speed of a musical piece in beats per minute.\n",
    "3. Pitch standard deviation - a property that orders sounds on a relative frequency scale (decribed as \"lower\" or \"higher\" notes). These features will allow us capture the variability of the pitch.\n",
    "\n",
    "As the features will have varying scales, thus we will use standardisation (using the Z-score) after splitting the data to ensure that inputs are treated equally. This will be done after splitting the data for building models.\n",
    "\n",
    "Overall, our input will be the original audio files, from which we will extract the tempogram standard deviation, tempo and pitch standard deviation."
   ]
  },
  {
   "cell_type": "markdown",
   "id": "98f433c2",
   "metadata": {
    "id": "98f433c2"
   },
   "source": [
    "# 5 Modelling\n",
    "\n",
    "The following four supervised models will be implemented, all of which are suitable for classification problems:\n",
    "\n",
    "1) Logistic regression\n",
    "* This is used when the target variable is categorical, since linear regression (which is susceptible to outliers) would not be appropriate. Based on a threshold value, we can classify output into the two classes (Potter or StarWars). We explore a range of values for the regularisation parameter (C) which helps to control overfitting (higher values give more weight to the training data).\n",
    "\n",
    "2) Support vector machine (SVM)\n",
    "* This method aims to find an optimal hyperplane boundary between our possible outputs (which maximises the distance to support vectors, unlike logistic regression). We explore a range of values for the regularisation parameter (C) - higher values lead to a smaller margin hyperplane.\n",
    "\n",
    "3) K-Nearest Neighbours (kNN)\n",
    "* This classification method determines the class of a data point by considering $k$ nearest points. It works differently to the above in that predictions are made based on the majority class amongst the $k$ nearest neighbours. We could expect audio files of the same class to be grouped together in the feature space, which is why we have chosen this model.\n",
    "* A value of  $k$ that is too small is more likely to be sensitive to noise and can lead to overfitting. A value that is too large can cause generalisation and result in underfitting. We explore a range of values that does not include 1.\n",
    "\n",
    "4) Random forest classifier\n",
    "* This model consists of a large number of decision trees, which all cast a vote for the class prediction (the most votes decides the classification). In contrast to the other models above, this method can form more \"complex\" decision boundaries which I anticipate could improve performance. \n",
    "* However, it is prone to overfitting, so we can explore several hyperparameters (number of trees, features to consider at each split, maximum levels in a tree, minimum samples required for a node split and minimum samples required at each leaf node)."
   ]
  },
  {
   "cell_type": "markdown",
   "id": "1ca710b3",
   "metadata": {
    "id": "1ca710b3"
   },
   "source": [
    "# 6 Methodology\n",
    "\n",
    "* Initially, the dataset will be randomly split into training and validation sets using a ratio of 70:30 respectively. \n",
    "\n",
    "* We will perform hyperparameter tuning (using the training set only) on the first three models using the grid search technique to obtain an optimal value of C (for logistic regression and SVM) and $k$ (for kNN). This performs an exhaustive search on pre-defined parameters of a model, and computes the optimum values of the hyperparameters to give the best model performance. It also employs a K-Fold cross validator, similar to that explained below.\n",
    "\n",
    "\n",
    "* For the random forest, we will use a random search technique for hyperparameter tuning, as there are many parameters; a grid search would be time-consuming and computationally expensive. In order to reduce overfitting, we will explore a range of parameters specified in the previous section.\n",
    "\n",
    "* Subsequently we will generate the training, validation accuracies and confusion matrices using the 70:30 split.\n",
    "\n",
    "* The K-fold cross-validation procedure will also be used to estimate the performance of the models. This method will help to reduce the bias of the model skill, as it returns a mean of the model accuracies. We need to choose an appropriate value of $k$ such that each group is large enough to statistically represent the dataset. As we have over 800 audio files, an appropriate value of $k$ could be 10. This will reserve 10% of the dataset for validation purposes."
   ]
  },
  {
   "cell_type": "markdown",
   "id": "e85c77e5",
   "metadata": {
    "id": "e85c77e5"
   },
   "source": [
    "# 7 Dataset\n",
    "\n",
    "## 7.1  Preparing the Dataset\n",
    "\n",
    "As shown below, there are 824 audio files in total (obtained from both parts 1 and 2), consisting of both \"Potter\" and \"StarWars\" hums and whistles recordings. However, we are not sure if there are an equal number of both songs, and not all of the recordings follow a consistent file naming format.\n"
   ]
  },
  {
   "cell_type": "code",
   "execution_count": null,
   "id": "4qjz-X8BmpKi",
   "metadata": {
    "colab": {
     "base_uri": "https://localhost:8080/"
    },
    "id": "4qjz-X8BmpKi",
    "outputId": "11d73a08-5d19-4eec-8a31-8d574b50c935"
   },
   "outputs": [
    {
     "name": "stdout",
     "output_type": "stream",
     "text": [
      "Mounted at /content/drive\n"
     ]
    }
   ],
   "source": [
    "# Mount the drive\n",
    "from google.colab import drive\n",
    "drive.mount('/content/drive')"
   ]
  },
  {
   "cell_type": "code",
   "execution_count": null,
   "id": "w_M4H5tdnD0X",
   "metadata": {
    "colab": {
     "base_uri": "https://localhost:8080/"
    },
    "id": "w_M4H5tdnD0X",
    "outputId": "adfc2526-d654-450c-a7f7-ad11d2325675"
   },
   "outputs": [
    {
     "data": {
      "text/plain": [
       "824"
      ]
     },
     "execution_count": 2,
     "metadata": {},
     "output_type": "execute_result"
    }
   ],
   "source": [
    "import numpy as np\n",
    "import pandas as pd\n",
    "import matplotlib.pyplot as plt\n",
    "import re\n",
    "import os, sys, re, pickle, glob\n",
    "import IPython.display as ipd\n",
    "from tqdm import tqdm\n",
    "import librosa\n",
    "from sklearn.preprocessing import StandardScaler\n",
    "%matplotlib inline\n",
    "\n",
    "# Load the files\n",
    "sample_path = '/content/drive/MyDrive/Data/MLEndBasic/audio/*.wav'\n",
    "files = glob.glob(sample_path)\n",
    "len(files)"
   ]
  },
  {
   "cell_type": "markdown",
   "id": "iS47c8Z6oyK6",
   "metadata": {
    "id": "iS47c8Z6oyK6"
   },
   "source": [
    "We will begin by exploring the audio files. The code below identifies all the filenames in this dataset that do not follow the consistent naming format."
   ]
  },
  {
   "cell_type": "code",
   "execution_count": null,
   "id": "YYWkOkJYoIa0",
   "metadata": {
    "colab": {
     "base_uri": "https://localhost:8080/"
    },
    "id": "YYWkOkJYoIa0",
    "outputId": "ec161312-33ab-4412-ac1f-7cfba7d538c7"
   },
   "outputs": [
    {
     "name": "stdout",
     "output_type": "stream",
     "text": [
      "S8_hum_1_[Potter].wav\n",
      "S8_hum_4_[Potter].wav\n",
      "S10_hum_1_Potter .wav\n",
      "S10_hum_2_Potter .wav\n",
      "S12_hum_2_Potter .wav\n",
      "S12_hum_4_Potter .wav\n",
      "S18_Hum_2_Potter.wav\n",
      "S18_Whistle_2_Potter.wav\n",
      "S29_whistle_2_potter.wav\n",
      "S35_hum_1_[Potter].wav\n",
      "S35_hum_4_[Potter].wav\n",
      "S37_hum_1_[Potter].wav\n",
      "S37_whistle_1_[Potter].wav\n",
      "S38_hum_3_Potterwav.wav\n",
      "S40_hum_2_potter.wav\n",
      "S40_whistle_2_potter.wav\n",
      "S47_hum_1_potter.wav\n",
      "S47_hum_2_potter.wav\n",
      "S48_Hum_2_Potter.wav\n",
      "S48_Whistle_2_Potter.wav\n",
      "S49_hum_1_[potter].wav\n",
      "S49_hum_4_[potter].wav\n",
      "S55_harrypotter_hum_2.wav\n",
      "S55_harrypotter_whistle_1.wav\n",
      "S60_hum_1_[Potter].wav\n",
      "S60_whistle_1_[Potter].wav\n",
      "S61_hum_1_[Potter].wav\n",
      "S61_whistle_1_[Potter].wav\n",
      "S63_hum_1_[Potter].wav\n",
      "S63_hum_4_[Potter].wav\n",
      "S79_hum_1_[Potter].wav\n",
      "S79_hum_4_[Potter].wav\n",
      "S82_hum_1_[Potter].wav\n",
      "S82_hum_4_[Potter].wav\n",
      "S88_hum_1_[potter].wav\n",
      "S88_whistle_1_[potter].wav\n",
      "S92_Hum_2_Potter.wav\n",
      "S92_Whistle_2_Potter.wav\n",
      "S95_Hum 2 Potter.wav\n",
      "S95_Whistle 2 Potter.wav\n",
      "S96_hum_1_[Potter].wav\n",
      "S96_whistle_1_[Potter].wav\n",
      "S99_hum_1_[Potter].wav\n",
      "S99_whistle_1_[Potter].wav\n",
      "S104_Hum_1_Potter.wav\n",
      "S104_Hum_2_Potter.wav\n",
      "S105_hum_1_harry potter.wav\n",
      "S109_hum_1_[Potter].wav\n",
      "S109_whistle_1_[Potter].wav\n",
      "S114_hum_1_potter.wav\n",
      "S114_hum_2_potter.wav\n",
      "S5_hum_3_Starwars.wav\n",
      "S5_hum_4_Starwars.wav\n",
      "S6_whisle_1_starwar.wav\n",
      "S6_whisle_2_starwar.wav\n",
      "S8_hum_3_[StarWars].wav\n",
      "S8_hum_4_[StarWars].wav\n",
      "S18_Hum_2_Starwars.wav\n",
      "S18_Whistle_2_Starwars.wav\n",
      "S24_whistle_2_Starwars.wav\n",
      "S35_hum_3_[StarWars].wav\n",
      "S35_hum_4_[StarWars].wav\n",
      "S37_hum_1_[StarWars].wav\n",
      "S37_hum_2_[StarWars].wav\n",
      "S40_hum_2_starwars.wav\n",
      "S40_whistle_2_starwars.wav\n",
      "S42_Hum2_StarWar.wav\n",
      "S42_Hum3.StarWar.wav\n",
      "S47_hum_3_starwars.wav\n",
      "S47_hum_4_starwars.wav\n",
      "S48_Hum_2_Starwars.wav\n",
      "S48_Whistle_2_Starwars.wav\n",
      "S49_hum_2_[ Star Wars ].wav\n",
      "S49_hum_3_[ Star Wars ].wav\n",
      "S55_starwars_hum_1.wav\n",
      "S55_starwars_whistle_2.wav\n",
      "S60_hum_1_[StarWars].wav\n",
      "S60_hum_2_[StarWars].wav\n",
      "S61_hum_1_[StarWars].wav\n",
      "S61_hum_2_[StatWars].wav\n",
      "S63_hum_3_[Starwars].wav\n",
      "S63_hum_4_[Starwars].wav\n",
      "S76_whistle_2_Starwars.wav\n",
      "S79_hum_3_[StarWars].wav\n",
      "S79_hum_4_[StarWars].wav\n",
      "S82_hum_3_[StarWars].wav\n",
      "S82_hum_4_[StarWars].wav\n",
      "S85_hum_3_StarsWars.wav\n",
      "S85_hum_4_StarsWars.wav\n",
      "S88_hum_1_[StarWars].wav\n",
      "S88_hum_2_[StarWars].wav\n",
      "S91_hum_2_Starwars.wav\n",
      "S91_whistle_2_Starwars.wav\n",
      "S92_Hum_2_StarWars.wav\n",
      "S92_Hum_3_StarWars.wav\n",
      "S95_Hum 1 StarWars.wav\n",
      "S95_Whistle 1 StarWars.wav\n",
      "S96_hum_1_[StarWars].wav\n",
      "S96_hum_2_[StarWars].wav\n",
      "S99_hum_1_[StarWars].wav\n",
      "S99_hum_2_[StarWars].wav\n",
      "S102_whistle_1_Star wars.wav\n",
      "S102_whistle_2_Star wars.wav\n",
      "S104_Hum_3_StarWars.wav\n",
      "S104_Hum_4_StarWars.wav\n",
      "S105_whistle_2_starwars.wav\n",
      "S107_hum_2_Starwars.wav\n",
      "S107_whistle_2_Starwars.wav\n",
      "S109_hum_3_[StarWars].wav\n",
      "S109_hum_4_[StarWars].wav\n",
      "S114_hum_3_star wars.wav\n",
      "S114_hum_4_star wars.wav\n",
      "S124_Whistle_2_Potter.wav\n",
      "S124_Hum_2_Potter.wav\n",
      "S131_hum_1_[Potter].wav\n",
      "S134_whistle_1_[Potter].wav\n",
      "S131_whistle_1_[Potter].wav\n",
      "S134_hum_1_[Potter].wav\n",
      "S138_whistle_1_Harry_Potter_Theme_Song.wav\n",
      "S138_hum_1_Harry_Potter_Theme_Song.wav\n",
      "S147_hum_2_potter.wav\n",
      "S146_hum_3_(potter).wav\n",
      "S145_whistle_1_[Potter].wav\n",
      "S146_hum_1_(potter).wav\n",
      "S145_hum_1_[Potter].wav\n",
      "S147_whistle_2_potter.wav\n",
      "S164_hum_1_[Potter].wav\n",
      "S164_whistle_1_[Potter].wav\n",
      "S178_whistle_1_[Potter] .wav\n",
      "S178_whistle_2_[Potter] .wav\n",
      "S181_hum_1_potter.wav\n",
      "S181_hum_2_potter.wav\n",
      "S186_hum_4_[Potter].wav\n",
      "S186_hum_1_[Potter].wav\n",
      "S189_hum_2_potter.wav\n",
      "S189_whistle_2_potter.wav\n",
      "S194_hum_1_[Potter].wav\n",
      "S194_Whistle_1_[Potter].wav\n",
      "S199_Hum_2_Potter.wav\n",
      "S205_Hum_1_Potter.wav\n",
      "S205_Hum_2_Potter.wav\n",
      "S123_hum_2_Starwars.wav\n",
      "S123_whistle_2_Starwars.wav\n",
      "S124_Hum_2_StarWars.wav\n",
      "S124_Whistle_2_StarWars.wav\n",
      "S134_hum_1_[StarWars].wav\n",
      "S134_hum_2_[StarWars].wav\n",
      "S138_hum_1_Imperial.wav\n",
      "S138_whistle_1_Imperial.wav\n",
      "S141_hum2_Imperial_March.wav\n",
      "S141_whistle_2_Imperial_March.wav\n",
      "S145_hum_1_[StarWars].wav\n",
      "S145_hum_2_[StarWars].wav\n",
      "S146_hum_1_(starwars).wav\n",
      "S146_hum_4_(starwars).wav\n",
      "S147_hum_2_Starwars.wav\n",
      "S147_whistle_2_Starwars.wav\n",
      "S150_hum_1_imperial_march.wav\n",
      "S157_hum_3_Starwars.wav\n",
      "S157_hum_4_Starwars.wav\n",
      "S164_hum_1_[StarWars].wav\n",
      "S164_hum_2_[StarWars].wav\n",
      "S173_whislte_2_StarWars.wav\n",
      "S178_hum_2_[StarWars] .wav\n",
      "S178_whistle_2_[StarWars] .wav\n",
      "S180_whistle_1_star_wars.wav\n",
      "S180_whistle_2_star_wars.wav\n",
      "S184_hum_2_Starwars.wav\n",
      "S186_hum_3_[StarWars].wav\n",
      "S186_hum_4_[StarWars].wav\n",
      "S189_hum_2_starwars.wav\n",
      "S189_whistle_2_starwars.wav\n",
      "S194_hum_1_[STARWARS].wav\n",
      "S194_hum_2_[STARWARS].wav\n",
      "S199_Hum_3_StarWars.wav\n",
      "S199_Hum_4_StarWars.wav\n",
      "S202_hum_3_Starwars.wav\n",
      "S202_hum_4_Starwars.wav\n",
      "S205_Hum_3_StarWars.wav\n",
      "S205_Hum_4_StarWars.wav\n",
      "S221_hum_1_StartWars.wav\n"
     ]
    }
   ],
   "source": [
    "# Identify files that do not meet the desired naming convention\n",
    "for file in files:\n",
    "  file_name = file.split('/')[-1]\n",
    "  if not re.match(\"S[0-9]+_(hum|whistle)_\\d_(StarWars|Potter)\\.wav\", file_name):\n",
    "    print(file_name)"
   ]
  },
  {
   "cell_type": "markdown",
   "id": "2ad-1CSmqOEo",
   "metadata": {
    "id": "2ad-1CSmqOEo"
   },
   "source": [
    "It is evident that all the audio files relating to the \"Potter\" song contain this string, ignoring differences in capitalisation. The dataframe below assigns the correct song label to each file based on this assumption."
   ]
  },
  {
   "cell_type": "code",
   "execution_count": null,
   "id": "E94-uikTqhhB",
   "metadata": {
    "colab": {
     "base_uri": "https://localhost:8080/",
     "height": 455
    },
    "id": "E94-uikTqhhB",
    "outputId": "4f3f3394-0b2c-4e8e-de92-3839a989f1d0"
   },
   "outputs": [
    {
     "data": {
      "text/html": [
       "<div>\n",
       "<style scoped>\n",
       "    .dataframe tbody tr th:only-of-type {\n",
       "        vertical-align: middle;\n",
       "    }\n",
       "\n",
       "    .dataframe tbody tr th {\n",
       "        vertical-align: top;\n",
       "    }\n",
       "\n",
       "    .dataframe thead th {\n",
       "        text-align: right;\n",
       "    }\n",
       "</style>\n",
       "<table border=\"1\" class=\"dataframe\">\n",
       "  <thead>\n",
       "    <tr style=\"text-align: right;\">\n",
       "      <th></th>\n",
       "      <th>song_label</th>\n",
       "    </tr>\n",
       "    <tr>\n",
       "      <th>file_id</th>\n",
       "      <th></th>\n",
       "    </tr>\n",
       "  </thead>\n",
       "  <tbody>\n",
       "    <tr>\n",
       "      <th>S1_hum_2_Potter.wav</th>\n",
       "      <td>Potter</td>\n",
       "    </tr>\n",
       "    <tr>\n",
       "      <th>S1_whistle_2_Potter.wav</th>\n",
       "      <td>Potter</td>\n",
       "    </tr>\n",
       "    <tr>\n",
       "      <th>S2_hum_2_Potter.wav</th>\n",
       "      <td>Potter</td>\n",
       "    </tr>\n",
       "    <tr>\n",
       "      <th>S2_whistle_2_Potter.wav</th>\n",
       "      <td>Potter</td>\n",
       "    </tr>\n",
       "    <tr>\n",
       "      <th>S3_hum_1_Potter.wav</th>\n",
       "      <td>Potter</td>\n",
       "    </tr>\n",
       "    <tr>\n",
       "      <th>...</th>\n",
       "      <td>...</td>\n",
       "    </tr>\n",
       "    <tr>\n",
       "      <th>S219_hum_4_StarWars.wav</th>\n",
       "      <td>StarWars</td>\n",
       "    </tr>\n",
       "    <tr>\n",
       "      <th>S221_hum_1_StartWars.wav</th>\n",
       "      <td>StarWars</td>\n",
       "    </tr>\n",
       "    <tr>\n",
       "      <th>S221_hum_2_StarWars.wav</th>\n",
       "      <td>StarWars</td>\n",
       "    </tr>\n",
       "    <tr>\n",
       "      <th>S222_hum_2_StarWars.wav</th>\n",
       "      <td>StarWars</td>\n",
       "    </tr>\n",
       "    <tr>\n",
       "      <th>S222_whistle_2_StarWars.wav</th>\n",
       "      <td>StarWars</td>\n",
       "    </tr>\n",
       "  </tbody>\n",
       "</table>\n",
       "<p>824 rows × 1 columns</p>\n",
       "</div>"
      ],
      "text/plain": [
       "                            song_label\n",
       "file_id                               \n",
       "S1_hum_2_Potter.wav             Potter\n",
       "S1_whistle_2_Potter.wav         Potter\n",
       "S2_hum_2_Potter.wav             Potter\n",
       "S2_whistle_2_Potter.wav         Potter\n",
       "S3_hum_1_Potter.wav             Potter\n",
       "...                                ...\n",
       "S219_hum_4_StarWars.wav       StarWars\n",
       "S221_hum_1_StartWars.wav      StarWars\n",
       "S221_hum_2_StarWars.wav       StarWars\n",
       "S222_hum_2_StarWars.wav       StarWars\n",
       "S222_whistle_2_StarWars.wav   StarWars\n",
       "\n",
       "[824 rows x 1 columns]"
      ]
     },
     "execution_count": 5,
     "metadata": {},
     "output_type": "execute_result"
    }
   ],
   "source": [
    "# Obtain a list and dataframe of file_id's\n",
    "PotterStar_table = []\n",
    "\n",
    "for file in files:\n",
    "  file_name = file.split('/')[-1]\n",
    "  PotterStar_table.append([file_name])\n",
    "\n",
    "PotterStar_df = pd.DataFrame(PotterStar_table,columns=['file_id'])\n",
    "\n",
    "# Get the label of the file\n",
    "def get_labels(row):\n",
    "  if re.search(\"Potter\", row[\"file_id\"], re.IGNORECASE):\n",
    "    return \"Potter\"\n",
    "  else:\n",
    "    return \"StarWars\"\n",
    "\n",
    "PotterStar_df_labelled = PotterStar_df.assign(song_label = PotterStar_df.apply(get_labels, axis=1))\n",
    "\n",
    "PotterStar_df_labelled = PotterStar_df_labelled.set_index('file_id')\n",
    "PotterStar_df_labelled"
   ]
  },
  {
   "cell_type": "markdown",
   "id": "zJAtC9ATrD4l",
   "metadata": {
    "id": "zJAtC9ATrD4l"
   },
   "source": [
    "Based on this dataframe, we perform a check to see if the dataset is balanced. As can be seen below, there are almost equal counts for each song label (there are two more \"StarWars\" recordings). Therefore, there is no need to further balance the dataset."
   ]
  },
  {
   "cell_type": "code",
   "execution_count": null,
   "id": "4Oh7H7Ypq_eA",
   "metadata": {
    "colab": {
     "base_uri": "https://localhost:8080/"
    },
    "id": "4Oh7H7Ypq_eA",
    "outputId": "330dddd3-d307-4705-887c-e0b2d7616b61"
   },
   "outputs": [
    {
     "data": {
      "text/plain": [
       "StarWars    413\n",
       "Potter      411\n",
       "Name: song_label, dtype: int64"
      ]
     },
     "execution_count": 6,
     "metadata": {},
     "output_type": "execute_result"
    }
   ],
   "source": [
    "# Checking class balance\n",
    "PotterStar_df_labelled.song_label.value_counts()"
   ]
  },
  {
   "cell_type": "markdown",
   "id": "kTg3Wc4d38Xc",
   "metadata": {
    "id": "kTg3Wc4d38Xc"
   },
   "source": [
    "## 7.2 Feature Extraction\n",
    "\n",
    "The following code extracts the three features for each of the audio files."
   ]
  },
  {
   "cell_type": "code",
   "execution_count": null,
   "id": "hswNqYKd5Kvm",
   "metadata": {
    "colab": {
     "base_uri": "https://localhost:8080/"
    },
    "id": "hswNqYKd5Kvm",
    "outputId": "7b26fb37-4131-4cf1-e96f-d611b2c9752c"
   },
   "outputs": [
    {
     "name": "stderr",
     "output_type": "stream",
     "text": [
      "100%|██████████| 824/824 [48:14<00:00,  3.51s/it]\n"
     ]
    }
   ],
   "source": [
    "# Feature extraction\n",
    "def getPitch(x,fs,winLen=0.02):\n",
    "  p = winLen*fs\n",
    "  frame_length = int(2**int(p-1).bit_length())\n",
    "  hop_length = frame_length//2\n",
    "  f0, voiced_flag, voiced_probs = librosa.pyin(y=x, fmin=80, fmax=450, sr=fs,\n",
    "                                                 frame_length=frame_length,hop_length=hop_length)\n",
    "  return f0,voiced_flag\n",
    "\n",
    "def get_features(files,labels_file):\n",
    "  X,y =[],[]\n",
    "  for file in tqdm(files):\n",
    "    fileID = file.split('/')[-1]\n",
    "    yi = labels_file.loc[fileID]['song_label']==\"StarWars\" # True if the song label is StarWars\n",
    "\n",
    "    fs = None\n",
    "    x, fs = librosa.load(file,sr=fs)\n",
    "    f0, voiced_flag = getPitch(x,fs,winLen=0.02)\n",
    "      \n",
    "    hop_length = 512\n",
    "    oenv = librosa.onset.onset_strength(y=x, sr=fs, hop_length=hop_length)\n",
    "    tempogram_std = np.std(librosa.feature.tempogram(onset_envelope=oenv, sr=fs, hop_length=hop_length))\n",
    "    tempo = np.mean(librosa.beat.tempo(x))\n",
    "    pitch_std  = np.nanstd(f0) if np.mean(np.isnan(f0))<1 else 0\n",
    "\n",
    "    xi = [tempogram_std,tempo,pitch_std]\n",
    "    X.append(xi)\n",
    "    y.append(yi)\n",
    "\n",
    "  return np.array(X),np.array(y)\n",
    "\n",
    "X, y = get_features(files, labels_file=PotterStar_df_labelled)"
   ]
  },
  {
   "cell_type": "markdown",
   "id": "gjicA6yfC5Xa",
   "metadata": {
    "id": "gjicA6yfC5Xa"
   },
   "source": [
    "Since these features were extracted previously, they were saved to reduce computation time. We can confirm the shape of the data is correct."
   ]
  },
  {
   "cell_type": "code",
   "execution_count": null,
   "id": "7pzxBB0fiE9O",
   "metadata": {
    "colab": {
     "base_uri": "https://localhost:8080/"
    },
    "id": "7pzxBB0fiE9O",
    "outputId": "30b6f2b0-3a3e-477c-9c4e-ce47dcd3cc09"
   },
   "outputs": [
    {
     "name": "stdout",
     "output_type": "stream",
     "text": [
      "The shape of the predictor array is:  (824, 3)\n",
      "The shape of the labels array is:  (824,)\n"
     ]
    }
   ],
   "source": [
    "# Using numpy to save our features (already done)\n",
    "\n",
    "# from numpy import asarray\n",
    "# from numpy import savetxt\n",
    "# savetxt('data_basic_x_stdx2.csv', X, delimiter=',')\n",
    "# savetxt('data_basic_y_stdx2.csv', y, delimiter=',')\n",
    "\n",
    "# Loading the csv files containing our data\n",
    "from numpy import loadtxt\n",
    "X = loadtxt('data_basic_x_stdx2.csv', delimiter=',')\n",
    "y = loadtxt('data_basic_y_stdx2.csv', delimiter=',')\n",
    "\n",
    "print(\"The shape of the predictor array is: \", X.shape)\n",
    "print(\"The shape of the labels array is: \", y.shape)"
   ]
  },
  {
   "cell_type": "markdown",
   "id": "IFZtrT4yo1Qv",
   "metadata": {
    "id": "IFZtrT4yo1Qv"
   },
   "source": [
    "## 7.3 Visualising the Audio Files in Space\n",
    "\n",
    "The 3D plot below shows the relative positions of the audio files, as given by the 3 features (note that they have not yet been normalised). As we can see, a lot of the points are not visually very well-separated, which may suggest that out models could struggle to separate the classes."
   ]
  },
  {
   "cell_type": "code",
   "execution_count": null,
   "id": "ADeTZH3BGMAN",
   "metadata": {
    "colab": {
     "base_uri": "https://localhost:8080/",
     "height": 592
    },
    "id": "ADeTZH3BGMAN",
    "outputId": "9c68091f-6546-476c-8da5-f353d91ac73a"
   },
   "outputs": [
    {
     "data": {
      "text/plain": [
       "<matplotlib.legend.Legend at 0x7f6c92c5c9d0>"
      ]
     },
     "execution_count": 9,
     "metadata": {},
     "output_type": "execute_result"
    },
    {
     "data": {
      "image/png": "[encoded data removed]",
      "text/plain": [
       "<Figure size 720x720 with 1 Axes>"
      ]
     },
     "metadata": {
      "needs_background": "light"
     },
     "output_type": "display_data"
    }
   ],
   "source": [
    "from mpl_toolkits.mplot3d import Axes3D\n",
    "from matplotlib.lines import Line2D\n",
    "\n",
    "# Generate a dataframe with predictors and labels\n",
    "features_df = pd.DataFrame(X)\n",
    "features_labels = pd.concat((features_df, pd.DataFrame({'y': y})), axis=1)\n",
    "\n",
    "# Plot the features\n",
    "fig = plt.figure(figsize=(10,10))\n",
    "ax1 = fig.add_subplot(111, projection='3d')\n",
    "\n",
    "colour_dict = {0:'r', 1:'b'}\n",
    "\n",
    "ax1.scatter(features_labels.iloc[:, 0], features_labels.iloc[:, 1], features_labels.iloc[:, 2], c=features_labels['y'], cmap='jet')\n",
    "\n",
    "ax1.set_title(\"Visualisation of the Audio Files using 3 Features\")    \n",
    "ax1.set_xlabel(\"Tempogram std\")\n",
    "ax1.set_ylabel(\"Tempo\")\n",
    "ax1.set_zlabel(\"Pitch std\")\n",
    "\n",
    "\n",
    "legend_elements = [Line2D([0],[0], marker='o', color='white', label='Potter', markerfacecolor='darkblue', markersize=10),\n",
    "                   Line2D([0],[0], marker='o', color='white', label='StarWars', markerfacecolor='darkred', markersize=10)]\n",
    "\n",
    "\n",
    "ax1.legend(handles=legend_elements, loc='upper right')"
   ]
  },
  {
   "cell_type": "markdown",
   "id": "ca306da1",
   "metadata": {
    "id": "ca306da1"
   },
   "source": [
    "# 8 Results\n",
    "\n",
    "The data is split 70:30, using stratification to ensure balance of the labels in the training and validation sets. We then normalise predictors using the standard scaler.\n",
    "\n",
    "## 8.1 Logistic Regression\n",
    "\n",
    "The results of fitting the logistic regression model are as follows. We first explore different values of C using the grid search method."
   ]
  },
  {
   "cell_type": "code",
   "execution_count": null,
   "id": "n8NyTk-f7qWF",
   "metadata": {
    "colab": {
     "base_uri": "https://localhost:8080/"
    },
    "id": "n8NyTk-f7qWF",
    "outputId": "824541ac-a52b-4c98-afca-5518372aed73"
   },
   "outputs": [
    {
     "name": "stdout",
     "output_type": "stream",
     "text": [
      "Best hyperparameter setting: {'estimator__C': 0.001}.\n"
     ]
    }
   ],
   "source": [
    "from sklearn.model_selection import train_test_split\n",
    "from sklearn.linear_model import LogisticRegression\n",
    "from sklearn import svm\n",
    "from sklearn.neighbors import KNeighborsClassifier\n",
    "from sklearn.metrics import ConfusionMatrixDisplay\n",
    "from sklearn.model_selection import KFold, cross_val_score\n",
    "from sklearn.model_selection import GridSearchCV\n",
    "from sklearn.pipeline import Pipeline\n",
    "\n",
    "# Split the dataset, stratify by label y to ensure balance\n",
    "X_train, X_val, y_train, y_val = train_test_split(X, y, test_size=0.3, random_state=5, stratify=y)\n",
    "\n",
    "# Standardise the train and validation features\n",
    "sc = StandardScaler()\n",
    "X_train_norm = sc.fit_transform(X_train)\n",
    "X_val_norm = sc.transform(X_val)\n",
    "\n",
    "# Perform grid search on the X_train set for optimal value of C\n",
    "pipeline_logreg = Pipeline([('scale', sc), ('estimator', LogisticRegression())])\n",
    "params_grid_logreg = {'estimator__C': [0.001, 0.01, 0.1, 1, 2, 5, 10, 25, 50, 100]}\n",
    "grid_logreg = GridSearchCV(pipeline_logreg, params_grid_logreg, cv=10)\n",
    "grid_logreg.fit(X_train, y_train)\n",
    "\n",
    "print('Best hyperparameter setting: {0}.'\n",
    " .format(grid_logreg.best_params_))"
   ]
  },
  {
   "cell_type": "code",
   "execution_count": null,
   "id": "TzOQu3Z6GFtv",
   "metadata": {
    "colab": {
     "base_uri": "https://localhost:8080/",
     "height": 331
    },
    "id": "TzOQu3Z6GFtv",
    "outputId": "eb504d89-b3ef-461c-8416-0988c8f5fb23"
   },
   "outputs": [
    {
     "name": "stdout",
     "output_type": "stream",
     "text": [
      "Training Accuracy 0.6440972222222222\n",
      "Validation Accuracy 0.7056451612903226\n"
     ]
    },
    {
     "data": {
      "text/plain": [
       "<sklearn.metrics._plot.confusion_matrix.ConfusionMatrixDisplay at 0x7f6c895b48d0>"
      ]
     },
     "execution_count": 13,
     "metadata": {},
     "output_type": "execute_result"
    },
    {
     "data": {
      "image/png": "[encoded data removed]",
      "text/plain": [
       "<Figure size 432x288 with 2 Axes>"
      ]
     },
     "metadata": {
      "needs_background": "light"
     },
     "output_type": "display_data"
    }
   ],
   "source": [
    "# Fit the model to the training set using the best hyperparameter\n",
    "logreg = LogisticRegression(C=0.001)\n",
    "logreg.fit(X_train_norm, y_train)\n",
    "\n",
    "# Obtain predictions\n",
    "yt_pred=logreg.predict(X_train_norm)\n",
    "yv_pred=logreg.predict(X_val_norm)\n",
    "\n",
    "print('Training Accuracy', np.mean(yt_pred==y_train))\n",
    "print('Validation Accuracy', np.mean(yv_pred==y_val))\n",
    "\n",
    "# Generate confusion matrix for the validation set\n",
    "ConfusionMatrixDisplay.from_predictions(y_val, yv_pred)"
   ]
  },
  {
   "cell_type": "markdown",
   "id": "pm2jD1cI9kMb",
   "metadata": {
    "id": "pm2jD1cI9kMb"
   },
   "source": [
    "We can see that the model is not exceptionally good at correctly predicting the song labels; the validation accuracy is approximately 71%. The validation accuracy is higher than the training accuracy, which shows that overfitting has not occurred.\n",
    "\n",
    "The confusion matrix shows that most of the \"Potter\" and \"StarWars\" audio files ('True label': 0 and 1 respectively) the majority of them are correctly classified. However, a large portion are still misclassified in both classes (approximately a third). Relatively more of the \"StarWars\" appear to be misclassified (38/124 compared to 35/124 Potter), which may suggest that this model is better at predicting \"Potter\" labels.\n",
    "\n",
    "## 8.2 Support Vector Machine\n",
    "\n",
    "The results of fitting the SVM model are as follows. First, we use the grid search method to find an optimal value of C."
   ]
  },
  {
   "cell_type": "code",
   "execution_count": null,
   "id": "AFce8Es0_2nt",
   "metadata": {
    "colab": {
     "base_uri": "https://localhost:8080/"
    },
    "id": "AFce8Es0_2nt",
    "outputId": "4512bbe8-c54d-4ac9-db12-d4a34d256147"
   },
   "outputs": [
    {
     "name": "stdout",
     "output_type": "stream",
     "text": [
      "Best hyperparameter setting: {'estimator__C': 10}.\n"
     ]
    }
   ],
   "source": [
    "# Perform grid search on the X_train set for optimal value of C\n",
    "pipeline_svm = Pipeline([('scale', sc), ('estimator', svm.SVC())])\n",
    "params_grid_svc = {'estimator__C': [0.001, 0.01, 0.1, 1, 2, 5, 10, 25, 50, 100]}\n",
    "grid_svc = GridSearchCV(pipeline_svm, params_grid_svc, cv=10)\n",
    "grid_svc.fit(X_train, y_train)\n",
    "\n",
    "print('Best hyperparameter setting: {0}.'\n",
    " .format(grid_svc.best_params_))"
   ]
  },
  {
   "cell_type": "code",
   "execution_count": null,
   "id": "WncLWFDJI13x",
   "metadata": {
    "colab": {
     "base_uri": "https://localhost:8080/",
     "height": 335
    },
    "id": "WncLWFDJI13x",
    "outputId": "c60cd881-e560-4c48-fd72-a5a9f0107c9f"
   },
   "outputs": [
    {
     "name": "stdout",
     "output_type": "stream",
     "text": [
      "Training Accuracy 0.7395833333333334\n",
      "Validation Accuracy 0.717741935483871\n"
     ]
    },
    {
     "data": {
      "text/plain": [
       "<sklearn.metrics._plot.confusion_matrix.ConfusionMatrixDisplay at 0x7f6c89519d10>"
      ]
     },
     "execution_count": 16,
     "metadata": {},
     "output_type": "execute_result"
    },
    {
     "data": {
      "image/png": "[encoded data removed]",
      "text/plain": [
       "<Figure size 432x288 with 2 Axes>"
      ]
     },
     "metadata": {
      "needs_background": "light"
     },
     "output_type": "display_data"
    }
   ],
   "source": [
    "# Fit the model to the training set using the best value of C\n",
    "svc = svm.SVC(C=10)\n",
    "svc.fit(X_train_norm,y_train)\n",
    "\n",
    "# Obtain predictions\n",
    "yt_pred = svc.predict(X_train_norm)\n",
    "yv_pred = svc.predict(X_val_norm)\n",
    "\n",
    "print('Training Accuracy', np.mean(yt_pred==y_train))\n",
    "print('Validation Accuracy', np.mean(yv_pred==y_val))\n",
    "\n",
    "# Generate confusion matrix for the validation set\n",
    "ConfusionMatrixDisplay.from_predictions(y_val, yv_pred)"
   ]
  },
  {
   "cell_type": "markdown",
   "id": "tTLpj4oZFOaU",
   "metadata": {
    "id": "tTLpj4oZFOaU"
   },
   "source": [
    "The SVM appears to perform (marginally) better than the logistic regression based on the validation accuracy. The training accuracy is higher (suggesting more overfitting) than the validation accuracy, suggesting insignificant overfitting.\n",
    "\n",
    "The confusion matrix also shows that most of the \"Potter\" and \"StarWars\" audio files are correctly classified as having their true labels. Very slightly more of the \"StarWars\" (36/124) audio files appear to be misclassified relative to \"Potter\" (34/124).\n",
    "\n",
    "## 8.3 k-Nearest Neighbours\n",
    "\n",
    "We will now fit the kNN model, using the grid search method to find the optimal value of $k$."
   ]
  },
  {
   "cell_type": "code",
   "execution_count": null,
   "id": "w_p9xJlIrjCf",
   "metadata": {
    "colab": {
     "base_uri": "https://localhost:8080/"
    },
    "id": "w_p9xJlIrjCf",
    "outputId": "38e52b74-6d6b-4130-d3ab-b0692b0b30c9"
   },
   "outputs": [
    {
     "name": "stdout",
     "output_type": "stream",
     "text": [
      "The best value of k is:  {'estimator__n_neighbors': 9}\n"
     ]
    }
   ],
   "source": [
    "# Perform grid search on the X_train set for optimal value of k\n",
    "pipeline_knn = Pipeline([('scale', sc), ('estimator', KNeighborsClassifier())])\n",
    "params_grid_knn = {'estimator__n_neighbors': np.arange(2,21)}\n",
    "knn_grid = GridSearchCV(pipeline_knn, params_grid_knn, cv=10)\n",
    "knn_grid.fit(X_train, y_train)\n",
    "\n",
    "print(\"The best value of k is: \", knn_grid.best_params_)"
   ]
  },
  {
   "cell_type": "code",
   "execution_count": null,
   "id": "R_kCm1NpL9_H",
   "metadata": {
    "colab": {
     "base_uri": "https://localhost:8080/",
     "height": 331
    },
    "id": "R_kCm1NpL9_H",
    "outputId": "fcaba03e-7568-4042-dddc-9fe809675204"
   },
   "outputs": [
    {
     "name": "stdout",
     "output_type": "stream",
     "text": [
      "Training Accuracy 0.75\n",
      "Validation  Accuracy 0.7217741935483871\n"
     ]
    },
    {
     "data": {
      "text/plain": [
       "<sklearn.metrics._plot.confusion_matrix.ConfusionMatrixDisplay at 0x7f6c894573d0>"
      ]
     },
     "execution_count": 18,
     "metadata": {},
     "output_type": "execute_result"
    },
    {
     "data": {
      "image/png": "[encoded data removed]",
      "text/plain": [
       "<Figure size 432x288 with 2 Axes>"
      ]
     },
     "metadata": {
      "needs_background": "light"
     },
     "output_type": "display_data"
    }
   ],
   "source": [
    "# Fit the model to the training set using the best value of k\n",
    "knn = KNeighborsClassifier(n_neighbors=9)\n",
    "knn.fit(X_train_norm, y_train)\n",
    "\n",
    "# Obtain predictions\n",
    "yt_p = knn.predict(X_train_norm)\n",
    "yv_p = knn.predict(X_val_norm)\n",
    "\n",
    "print('Training Accuracy', np.mean(yt_p==y_train))\n",
    "print('Validation  Accuracy', np.mean(yv_p==y_val))\n",
    "\n",
    "# Generate confusion matrix for the validation set\n",
    "ConfusionMatrixDisplay.from_predictions(y_val, yv_p)"
   ]
  },
  {
   "cell_type": "markdown",
   "id": "arDFuDuWXcjd",
   "metadata": {
    "id": "arDFuDuWXcjd"
   },
   "source": [
    "We can see that the validation accuracy places this model above the logistic regression and support vector machine in terms of performance. The training accuracy is also higher, but the difference between them does not suggest major overfitting.\n",
    "\n",
    "Similarly to the previous models, we can see that although most of the files are correctly classified, relatively more of the \"StarWars\" (37/124 vs 32/124) are mistaken for \"Potter\".\n",
    "\n",
    "## 8.4 Random Forest\n",
    "\n",
    "We now fit a random forest classifier. Instead of using the grid search, we use a random search to reduce computation time. Note that, due to the \"random\" nature of this method, it is likely to return different values each time."
   ]
  },
  {
   "cell_type": "code",
   "execution_count": null,
   "id": "wCesmQxM78IE",
   "metadata": {
    "colab": {
     "base_uri": "https://localhost:8080/"
    },
    "id": "wCesmQxM78IE",
    "outputId": "699d6551-92c5-4e9d-898b-48a021ced0e0"
   },
   "outputs": [
    {
     "name": "stdout",
     "output_type": "stream",
     "text": [
      "The best estimators are:  {'estimator__n_estimators': 100, 'estimator__min_samples_split': 2, 'estimator__min_samples_leaf': 4, 'estimator__max_features': 'auto', 'estimator__max_depth': 100}\n"
     ]
    }
   ],
   "source": [
    "from sklearn.ensemble import RandomForestClassifier\n",
    "from sklearn.model_selection import RandomizedSearchCV\n",
    "\n",
    "# Perform grid search on the X_train set for optimal estimator values\n",
    "pipeline_rfc = Pipeline([('scale', sc), ('estimator', RandomForestClassifier())])\n",
    "params_grid_rfc = {'estimator__n_estimators': [100, 200, 300, 400, 500], # Number of trees in the random forest\n",
    "                   'estimator__max_features': ['auto', 'sqrt'], # Number of features to consider at each split\n",
    "                   'estimator__max_depth' : [10, 20, 30, 40, 50, 60, 70, 80, 90, 100], # Maximum number of levels in the tree\n",
    "                   'estimator__min_samples_split': [2, 5, 10], # Minimum number of samples required to split a node\n",
    "                   'estimator__min_samples_leaf': [1, 2, 4]} # Minimum number of samples required at each leaf node\n",
    "\n",
    "rfc_grid = RandomizedSearchCV(pipeline_rfc, params_grid_rfc, cv=10)\n",
    "rfc_grid.fit(X_train, y_train)\n",
    "\n",
    "print(\"The best estimators are: \", rfc_grid.best_params_)"
   ]
  },
  {
   "cell_type": "code",
   "execution_count": null,
   "id": "F3fFK0C1Y8aQ",
   "metadata": {
    "colab": {
     "base_uri": "https://localhost:8080/",
     "height": 331
    },
    "id": "F3fFK0C1Y8aQ",
    "outputId": "890ac6fc-d710-49f2-e2cc-214cf5fec9d8"
   },
   "outputs": [
    {
     "name": "stdout",
     "output_type": "stream",
     "text": [
      "Training Accuracy 0.8420138888888888\n",
      "Validation  Accuracy 0.7258064516129032\n"
     ]
    },
    {
     "data": {
      "text/plain": [
       "<sklearn.metrics._plot.confusion_matrix.ConfusionMatrixDisplay at 0x7f6c89363c90>"
      ]
     },
     "execution_count": 21,
     "metadata": {},
     "output_type": "execute_result"
    },
    {
     "data": {
      "image/png": "[encoded data removed]",
      "text/plain": [
       "<Figure size 432x288 with 2 Axes>"
      ]
     },
     "metadata": {
      "needs_background": "light"
     },
     "output_type": "display_data"
    }
   ],
   "source": [
    "# Fit the model to the training set using the above estimators\n",
    "rfclf = RandomForestClassifier(n_estimators=100, min_samples_split=2, min_samples_leaf=4,  max_features='auto', max_depth=100, random_state=10)\n",
    "rfclf.fit(X_train_norm, y_train)\n",
    "\n",
    "# Obtain predictions\n",
    "yt_p = rfclf.predict(X_train_norm)\n",
    "yv_p = rfclf.predict(X_val_norm)\n",
    "\n",
    "print('Training Accuracy', np.mean(yt_p==y_train))\n",
    "print('Validation  Accuracy', np.mean(yv_p==y_val))\n",
    "\n",
    "# Generate confusion matrix for the validation set\n",
    "ConfusionMatrixDisplay.from_predictions(y_val, yv_p)"
   ]
  },
  {
   "cell_type": "markdown",
   "id": "5AScpfOqrnAT",
   "metadata": {
    "id": "5AScpfOqrnAT"
   },
   "source": [
    "We can see that the validation accuracy places this model ahead of all the other models. However, it also appears to be the most overfit (indicated by the relatively large difference in training and validation accuracies) - but this may be expected for a relatively complex classifier.\n",
    "\n",
    "Interestingly, this model proportionately misclassifies more of the \"Potter\" (38/124) files in comparison to the \"StarWars\" (30/124), which is the opposite to results seen with other models.\n",
    "\n",
    "## 8.5 K-Fold Cross-validation\n",
    "\n",
    "The results above for all three models are specific to a particular 70:30 split of the data. In order to obtain a less biased result, we can use the K-Fold cross-validation technique (as described earlier). This will split the data into 10 folds, and each fold will be used for validation. The score returned is an average of all the model accuracies. Note that this method does not shuffle the data by default, so we have set this parameter to true."
   ]
  },
  {
   "cell_type": "code",
   "execution_count": null,
   "id": "4ls9TXKCFNTj",
   "metadata": {
    "colab": {
     "base_uri": "https://localhost:8080/"
    },
    "id": "4ls9TXKCFNTj",
    "outputId": "82ca0af5-4229-4747-eee6-fcce7f80fe82"
   },
   "outputs": [
    {
     "name": "stdout",
     "output_type": "stream",
     "text": [
      "Logistic Regression: 0.6552453717308258 , SVM: 0.7111225389362327 , kNN: 0.7026741110784601 Random Forest 0.7208933294152218\n"
     ]
    }
   ],
   "source": [
    "# Split the data into 10 folds, with shuffling\n",
    "kf = KFold(10, shuffle=True, random_state=10)\n",
    "\n",
    "# Ensure normalisation of the resulting train/validation sets and fit model using hyperparameters specified previously\n",
    "pipeline_logreg = Pipeline([('transformer', sc), ('estimator', logreg)])\n",
    "pipeline_svm = Pipeline([('transformer', sc), ('estimator', svc)])\n",
    "pipeline_knn = Pipeline([('transformer', sc), ('estimator', knn)])\n",
    "pipeline_rfc = Pipeline([('transformer', sc), ('estimator', rfclf)])\n",
    "\n",
    "# Obtain the accuracy across folds (using all X and y)\n",
    "svc_score = cross_val_score(pipeline_svm, X, y, cv=kf)\n",
    "logreg_score = cross_val_score(pipeline_logreg, X, y, cv=kf)\n",
    "knn_score = cross_val_score(pipeline_knn, X, y, cv=kf)\n",
    "rfc_score = cross_val_score(pipeline_rfc, X, y, cv=kf)\n",
    "\n",
    "print(\"Logistic Regression:\", np.mean(logreg_score), \", SVM:\", np.mean(svc_score), \", kNN:\", np.mean(knn_score), \"Random Forest\", np.mean(rfc_score))"
   ]
  },
  {
   "cell_type": "markdown",
   "id": "QSLnMH9uqF-J",
   "metadata": {
    "id": "QSLnMH9uqF-J"
   },
   "source": [
    "Comparing the validation accuracy of the 70:30 split to the results of K-fold above, we can see that the overall validation accuracies are lower. These differences may be expected, since the K-fold considers the average accuracy using many splits, as opposed to one.\n",
    "\n",
    "It would seem that the logistic regression performs the worst of all the models. The performance of the other three models is similar, with random forest being slightly better."
   ]
  },
  {
   "cell_type": "markdown",
   "id": "7845bfac",
   "metadata": {
    "id": "7845bfac"
   },
   "source": [
    "# 9 Conclusions\n",
    "\n",
    "The findings of our experiments are summarised below:\n",
    "* Neither of the models perform very well; the validation accuracies are only just above 70% using the 70:30 split, despite some hyperparameter tuning.\n",
    "* Using the K-fold cross validation technique to reduce bias, we confirmed that the random forest appears to perform better with a score of approximately 72%. This is followed closely by the SVM and kNN. The logistic regression shows relatively worse performance.\n",
    "* There is a general trend across the models (except for the random forest) showing that more of the \"StarWars\" files are misclassified in comparison to \"Potter\".\n",
    "\n",
    "Going forward, the focus should be on:\n",
    "* Exploring the misclassifications and finding ways to reduce them. These are likely due to the non-informative features extracted. Despite experimentation with several features (see Appendix), we were not able to find any that could solve this problem well.\n",
    "* Liaising with audio 'domain experts' may be helpful to direct appropriate pre-processing and feature extraction from data, such that any models built could better distinguish between the two classes.\n"
   ]
  },
  {
   "cell_type": "markdown",
   "id": "4BzpnzDQsTYZ",
   "metadata": {
    "id": "4BzpnzDQsTYZ"
   },
   "source": [
    "# Appendix\n",
    "\n",
    "Below is the code showing how the random forest model was utilised to determine feature importance. We experimented with some features in the starter kit, as well as 6 additional features.\n",
    "\n",
    "Note that this feature extraction would be lengthy to execute for the entire dataset, hence experimentation was only carried out for a portion of the dataset (100 samples). We assume that this will be somewhat representative of the dataset.\n",
    "\n",
    "First, we extract a random sample of 100 audio files and ensure that it is balanced in terms of song labels."
   ]
  },
  {
   "cell_type": "code",
   "execution_count": null,
   "id": "4DA4FzNVummB",
   "metadata": {
    "colab": {
     "base_uri": "https://localhost:8080/"
    },
    "id": "4DA4FzNVummB",
    "outputId": "72c121fe-2325-457f-c4d1-6cbf5eede9b4"
   },
   "outputs": [
    {
     "name": "stdout",
     "output_type": "stream",
     "text": [
      "Checking the balance of the sample dataset:\n",
      " StarWars    52\n",
      "Potter      48\n",
      "Name: song_label, dtype: int64\n"
     ]
    }
   ],
   "source": [
    "import random\n",
    "from random import sample\n",
    "random.seed(a=1)\n",
    "file_sample = sample(files, 100)\n",
    "\n",
    "sample_table = []\n",
    "\n",
    "for file in file_sample:\n",
    "  file_name = file.split('/')[-1]\n",
    "  sample_table.append([file_name])\n",
    "\n",
    "sample_df = pd.DataFrame(sample_table,columns=['file_id'])\n",
    "\n",
    "sample_df = sample_df.assign(song_label = sample_df.apply(get_labels, axis=1))\n",
    "\n",
    "sample_df = sample_df.set_index('file_id')\n",
    "\n",
    "print(\"Checking the balance of the sample dataset:\\n\", sample_df.song_label.value_counts())"
   ]
  },
  {
   "cell_type": "markdown",
   "id": "BVDO4Lu4vE6j",
   "metadata": {
    "id": "BVDO4Lu4vE6j"
   },
   "source": [
    "The below functions extract all of the experimental features:"
   ]
  },
  {
   "cell_type": "code",
   "execution_count": null,
   "id": "w7dccM02vDrg",
   "metadata": {
    "colab": {
     "base_uri": "https://localhost:8080/"
    },
    "id": "w7dccM02vDrg",
    "outputId": "0d585eeb-0480-4ea9-c8a2-b4198dbb9e48"
   },
   "outputs": [
    {
     "name": "stderr",
     "output_type": "stream",
     "text": [
      "100%|██████████| 100/100 [06:15<00:00,  3.75s/it]\n"
     ]
    }
   ],
   "source": [
    "def getPitch(x,fs,winLen=0.02):\n",
    "  p = winLen*fs\n",
    "  frame_length = int(2**int(p-1).bit_length())\n",
    "  hop_length = frame_length//2\n",
    "  f0, voiced_flag, voiced_probs = librosa.pyin(y=x, fmin=80, fmax=450, sr=fs,\n",
    "                                                 frame_length=frame_length,hop_length=hop_length)\n",
    "  return f0,voiced_flag\n",
    "\n",
    "def get_experimental_features(files,labels_file, scale_audio=False):\n",
    "  X,y =[],[]\n",
    "  for file in tqdm(files):\n",
    "    fileID = file.split('/')[-1]\n",
    "    yi = labels_file.loc[fileID]['song_label']==\"StarWars\" # True if the song label is StarWars\n",
    "\n",
    "    fs = None # if None, fs would be 22050\n",
    "    x, fs = librosa.load(file,sr=fs)\n",
    "    f0, voiced_flag = getPitch(x,fs,winLen=0.02)\n",
    "      \n",
    "    power = np.sum(x**2)/len(x)\n",
    "    pitch_mean = np.nanmean(f0) if np.mean(np.isnan(f0))<1 else 0\n",
    "    pitch_std  = np.nanstd(f0) if np.mean(np.isnan(f0))<1 else 0\n",
    "\n",
    "    hop_length = 512\n",
    "    oenv = librosa.onset.onset_strength(y=x, sr=fs, hop_length=hop_length)\n",
    "    tempogram_std = np.std(librosa.feature.tempogram(onset_envelope=oenv, sr=fs, hop_length=hop_length))\n",
    "    tempo = np.mean(librosa.beat.tempo(x))\n",
    "\n",
    "\n",
    "    chroma_stft = np.mean(librosa.feature.chroma_stft(y=x, sr=fs))\n",
    "    spec_cent = np.mean(librosa.feature.spectral_centroid(y=x, sr=fs))\n",
    "    rolloff = np.mean(librosa.feature.spectral_rolloff(y=x, sr=fs))\n",
    "    zcr = np.mean(librosa.feature.zero_crossing_rate(x))\n",
    "\n",
    "    xi = [power,pitch_mean,pitch_std,tempogram_std,tempo,chroma_stft,spec_cent,rolloff,zcr]\n",
    "    X.append(xi)\n",
    "    y.append(yi)\n",
    "\n",
    "  return np.array(X),np.array(y)\n",
    "\n",
    "exp_X, exp_y = get_experimental_features(file_sample, labels_file=sample_df)"
   ]
  },
  {
   "cell_type": "markdown",
   "id": "-upTMLzGG58t",
   "metadata": {
    "id": "-upTMLzGG58t"
   },
   "source": [
    "The random forest classifier is one method to determine feature importance for the 100 samples. In general, none of the features appear to be particularly great predictors. Running the code a few times, we can see that the features: tempogram_std, tempo and pitch_std demonstrate greater importance. These will be used to train our models."
   ]
  },
  {
   "cell_type": "code",
   "execution_count": null,
   "id": "h4mq9LwhC18D",
   "metadata": {
    "colab": {
     "base_uri": "https://localhost:8080/",
     "height": 382
    },
    "id": "h4mq9LwhC18D",
    "outputId": "6cb866e2-a62c-408c-b401-94b993bb5f28"
   },
   "outputs": [
    {
     "data": {
      "image/png": "[encoded data removed]",
      "text/plain": [
       "<Figure size 600x400 with 1 Axes>"
      ]
     },
     "metadata": {
      "needs_background": "light"
     },
     "output_type": "display_data"
    }
   ],
   "source": [
    "from sklearn.ensemble import RandomForestClassifier\n",
    "sc_exp = StandardScaler()\n",
    "exp_X_norm = sc_exp.fit_transform(exp_X)\n",
    "\n",
    "rfc = RandomForestClassifier()\n",
    "rfc.fit(exp_X_norm, exp_y)\n",
    "\n",
    "col_names = ['power','pitch_mean','pitch_std','tempogram_std','tempo','chroma_stft','spec_cent','rolloff','zcr']\n",
    "\n",
    "importance = rfc.feature_importances_\n",
    "\n",
    "plt.figure(dpi=100)\n",
    "feat_importances = pd.Series(rfc.feature_importances_, index=col_names)\n",
    "feat_importances.nlargest(9).plot(kind='barh')\n",
    "plt.xlabel(\"Feature Importance\")\n",
    "plt.ylabel(\"Feature\")\n",
    "plt.show()"
   ]
  }
 ],
 "metadata": {
  "colab": {
   "collapsed_sections": [],
   "name": "ECS7020P_miniproject_basic.ipynb",
   "provenance": []
  },
  "kernelspec": {
   "display_name": "Python 3",
   "language": "python",
   "name": "python3"
  },
  "language_info": {
   "codemirror_mode": {
    "name": "ipython",
    "version": 3
   },
   "file_extension": ".py",
   "mimetype": "text/x-python",
   "name": "python",
   "nbconvert_exporter": "python",
   "pygments_lexer": "ipython3",
   "version": "3.8.8"
  }
 },
 "nbformat": 4,
 "nbformat_minor": 5
}
